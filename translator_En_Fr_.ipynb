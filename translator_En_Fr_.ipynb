{
  "nbformat": 4,
  "nbformat_minor": 0,
  "metadata": {
    "colab": {
      "provenance": []
    },
    "kernelspec": {
      "display_name": "Python 3",
      "name": "python3"
    },
    "language_info": {
      "name": "python"
    }
  },
  "cells": [
    {
      "cell_type": "code",
      "metadata": {
        "id": "H0_LlYPm3Y9D"
      },
      "source": [
        "#Importing library\n",
        "import numpy as np\n",
        "import pandas as pd\n",
        "from keras.models import Model\n",
        "from keras.layers import Input, LSTM, Dense\n",
        "from keras.utils import *\n",
        "from keras.initializers import *\n",
        "import tensorflow as tf\n",
        "import time, random\n",
        "import hashlib\n",
        "from sklearn.model_selection import train_test_split"
      ],
      "execution_count": null,
      "outputs": []
    },
    {
      "cell_type": "code",
      "metadata": {
        "colab": {
          "base_uri": "https://localhost:8080/"
        },
        "id": "wHZjoXogKQzh",
        "outputId": "a00a4ec3-57e4-41be-8c12-0b7579cdec6e"
      },
      "source": [
        "f = open(\"eng-french.txt\", \"r\")  #Load file in any mode that's able to read, ie r, r+, w+ etc\n",
        "len(f.readlines())               #to get length\n",
        "\n"
      ],
      "execution_count": null,
      "outputs": [
        {
          "output_type": "execute_result",
          "data": {
            "text/plain": [
              "149863"
            ]
          },
          "metadata": {},
          "execution_count": 2
        }
      ]
    },
    {
      "cell_type": "code",
      "metadata": {
        "id": "DpsLCEad7w2P"
      },
      "source": [
        "\n",
        "# remove duplicate\n",
        "output_file_path = \"EN-FR.txt\"\n",
        "input_file_path = \"eng-french.txt\"\n",
        "completed_lines_hash = set()\n",
        "output_file = open(output_file_path, \"w\")\n",
        "for line in open(input_file_path, \"r\"):\n",
        "\n",
        "  hashValue = hashlib.md5(line.rstrip().encode('utf-8')).hexdigest()\n",
        "\n",
        "  if hashValue not in completed_lines_hash:\n",
        "    output_file.write(line)\n",
        "    completed_lines_hash.add(hashValue)\n",
        "\n",
        "output_file.close()"
      ],
      "execution_count": null,
      "outputs": []
    },
    {
      "cell_type": "code",
      "metadata": {
        "colab": {
          "base_uri": "https://localhost:8080/"
        },
        "id": "OecQ5671Jw20",
        "outputId": "d59a19b9-f1ab-47d7-d931-5addc64f7826"
      },
      "source": [
        "f = open(\"EN-FR.txt\", \"r\")  #Load file in any mode that's able to read, ie r, r+, w+ etc\n",
        "len(f.readlines())"
      ],
      "execution_count": null,
      "outputs": [
        {
          "output_type": "execute_result",
          "data": {
            "text/plain": [
              "149836"
            ]
          },
          "metadata": {},
          "execution_count": 4
        }
      ]
    },
    {
      "cell_type": "code",
      "metadata": {
        "id": "fC20JwFOlxTR"
      },
      "source": [
        "#Hyperparameters\n",
        "batch_size = 200     # Batch size for training.\n",
        "latent_dim = 200      # Number of epochs to train for.\n",
        "num_samples = 10000   # Number of samples to train on."
      ],
      "execution_count": null,
      "outputs": []
    },
    {
      "cell_type": "code",
      "metadata": {
        "id": "iDtFvZMatuoE",
        "colab": {
          "base_uri": "https://localhost:8080/"
        },
        "outputId": "a06cd5df-dc2d-4537-83c8-475537c49142"
      },
      "source": [
        "#Vectorize the data.\n",
        "input_texts = []\n",
        "target_texts = []\n",
        "input_chars = set()\n",
        "target_chars = set()\n",
        "with open('eng-french.txt', 'r', encoding='utf-8') as f:\n",
        "    lines = f.read().split('\\n')\n",
        "for line in lines[: min(num_samples, len(lines) - 1)]:  # Taking lines from 0 to num_samples which is 10000\n",
        "    input_text, target_text = line.split('\\t')    # We use \"tab\" as the \"start sequence\" character.\n",
        "    target_text = '\\t' + target_text + '\\n'       # for the targets, and \"\\n\" as \"end sequence\" character.\n",
        "    #print(input_texts, target_texts) #pp\n",
        "    input_texts.append(input_text)\n",
        "    target_texts.append(target_text)\n",
        "    for char in input_text:\n",
        "        if char not in input_chars:\n",
        "            input_chars.add(char)\n",
        "    for char in target_text:\n",
        "        if char not in target_chars:\n",
        "            target_chars.add(char)\n",
        "\n",
        "input_chars = sorted(list(input_chars))\n",
        "target_chars = sorted(list(target_chars))\n",
        "num_encoder_tokens = len(input_chars)\n",
        "num_decoder_tokens = len(target_chars)\n",
        "max_encoder_seq_length = max([len(txt) for txt in input_texts])\n",
        "max_decoder_seq_length = max([len(txt) for txt in target_texts])\n",
        "\n",
        "#Print size\n",
        "print('Number of samples:', len(input_texts))\n",
        "print('Number of unique input tokens:', num_encoder_tokens)\n",
        "print('Number of unique output tokens:', num_decoder_tokens)\n",
        "print('Max sequence length for inputs:', max_encoder_seq_length)\n",
        "print('Max sequence length for outputs:', max_decoder_seq_length)\n",
        "\n"
      ],
      "execution_count": null,
      "outputs": [
        {
          "output_type": "stream",
          "name": "stdout",
          "text": [
            "Number of samples: 10000\n",
            "Number of unique input tokens: 71\n",
            "Number of unique output tokens: 94\n",
            "Max sequence length for inputs: 16\n",
            "Max sequence length for outputs: 59\n"
          ]
        }
      ]
    },
    {
      "cell_type": "code",
      "metadata": {
        "id": "nkrAnA6RDHUG"
      },
      "source": [
        "\n",
        "#Define data for encoder and decoder\n",
        "input_token_id = dict([(char, i) for i, char in enumerate(input_chars)])\n",
        "target_token_id = dict([(char, i) for i, char in enumerate(target_chars)])\n",
        "\n",
        "encoder_in_data = np.zeros((len(input_texts), max_encoder_seq_length, num_encoder_tokens), dtype='float32')\n",
        "\n",
        "decoder_in_data = np.zeros((len(input_texts), max_decoder_seq_length, num_decoder_tokens), dtype='float32')\n",
        "\n",
        "decoder_target_data = np.zeros((len(input_texts), max_decoder_seq_length, num_decoder_tokens), dtype='float32')\n",
        "\n",
        "for i, (input_text, target_text) in enumerate(zip(input_texts, target_texts)):     #earlier we have made a numpy array of zeros\n",
        "    for t, char in enumerate(input_text):                                         # so here we are one hot encoding by putting 1 on places chars are found.\n",
        "        encoder_in_data[i, t, input_token_id[char]] = 1.\n",
        "    for t, char in enumerate(target_text):\n",
        "        decoder_in_data[i, t, target_token_id[char]] = 1.\n",
        "        if t > 0:\n",
        "            decoder_target_data[i, t - 1, target_token_id[char]] = 1."
      ],
      "execution_count": null,
      "outputs": []
    },
    {
      "cell_type": "code",
      "metadata": {
        "id": "CRafhzOQDN8s"
      },
      "source": [
        "#Define and process the input sequence\n",
        "encoder_inputs = Input(shape=(None, num_encoder_tokens))\n",
        "encoder = LSTM(latent_dim, return_state=True)\n",
        "encoder_outputs, state_h, state_c = encoder(encoder_inputs)\n",
        "#We discard `encoder_outputs` and only keep the states.\n",
        "encoder_states = [state_h, state_c]\n",
        "\n",
        "#Using `encoder_states` set up the decoder as initial state.\n",
        "decoder_inputs = Input(shape=(None, num_decoder_tokens))\n",
        "decoder_lstm = LSTM(latent_dim, return_sequences=True, return_state=True)\n",
        "decoder_outputs, _, _ = decoder_lstm(decoder_inputs, initial_state=encoder_states)\n",
        "decoder_dense = Dense(num_decoder_tokens, activation='softmax')\n",
        "decoder_outputs = decoder_dense(decoder_outputs)"
      ],
      "execution_count": null,
      "outputs": []
    },
    {
      "cell_type": "code",
      "metadata": {
        "id": "zwRSecidDRil"
      },
      "source": [
        "#Final model\n",
        "model = Model([encoder_inputs, decoder_inputs], decoder_outputs)"
      ],
      "execution_count": null,
      "outputs": []
    },
    {
      "cell_type": "code",
      "metadata": {
        "id": "2VfckkMoDVyz",
        "colab": {
          "base_uri": "https://localhost:8080/"
        },
        "outputId": "a82b3666-e5bc-4647-be89-b4671939151f"
      },
      "source": [
        "#Model Summary\n",
        "model.summary()"
      ],
      "execution_count": null,
      "outputs": [
        {
          "output_type": "stream",
          "name": "stdout",
          "text": [
            "Model: \"model\"\n",
            "__________________________________________________________________________________________________\n",
            "Layer (type)                    Output Shape         Param #     Connected to                     \n",
            "==================================================================================================\n",
            "input_1 (InputLayer)            [(None, None, 71)]   0                                            \n",
            "__________________________________________________________________________________________________\n",
            "input_2 (InputLayer)            [(None, None, 94)]   0                                            \n",
            "__________________________________________________________________________________________________\n",
            "lstm (LSTM)                     [(None, 200), (None, 217600      input_1[0][0]                    \n",
            "__________________________________________________________________________________________________\n",
            "lstm_1 (LSTM)                   [(None, None, 200),  236000      input_2[0][0]                    \n",
            "                                                                 lstm[0][1]                       \n",
            "                                                                 lstm[0][2]                       \n",
            "__________________________________________________________________________________________________\n",
            "dense (Dense)                   (None, None, 94)     18894       lstm_1[0][0]                     \n",
            "==================================================================================================\n",
            "Total params: 472,494\n",
            "Trainable params: 472,494\n",
            "Non-trainable params: 0\n",
            "__________________________________________________________________________________________________\n"
          ]
        }
      ]
    },
    {
      "cell_type": "code",
      "metadata": {
        "id": "2qRVCbJpDY1X",
        "colab": {
          "base_uri": "https://localhost:8080/"
        },
        "outputId": "2200708f-c33b-471b-d49d-c62dbac5f782"
      },
      "source": [
        "#Model data Shape\n",
        "print(\"encoder_in_data shape:\",encoder_in_data.shape)\n",
        "print(\"decoder_in_data shape:\",decoder_in_data.shape)\n",
        "print(\"decoder_target_data shape:\",decoder_target_data.shape)"
      ],
      "execution_count": null,
      "outputs": [
        {
          "output_type": "stream",
          "name": "stdout",
          "text": [
            "encoder_in_data shape: (10000, 16, 71)\n",
            "decoder_in_data shape: (10000, 59, 94)\n",
            "decoder_target_data shape: (10000, 59, 94)\n"
          ]
        }
      ]
    },
    {
      "cell_type": "code",
      "metadata": {
        "colab": {
          "base_uri": "https://localhost:8080/"
        },
        "id": "sEYEgt3UDp2f",
        "outputId": "1fb22162-2a16-41f2-fea9-b178987fdabc"
      },
      "source": [
        "from tensorflow.keras.optimizers import Adam\n",
        "#Compiling and training the model\n",
        "model.compile(optimizer=Adam(lr=0.01, beta_1=0.9, beta_2=0.999, decay=0.001), loss='categorical_crossentropy')\n",
        "\n",
        "model.fit([encoder_in_data, decoder_in_data], decoder_target_data, batch_size = batch_size, epochs=200, validation_split=0.3)"
      ],
      "execution_count": null,
      "outputs": [
        {
          "metadata": {
            "tags": null
          },
          "name": "stderr",
          "output_type": "stream",
          "text": [
            "/usr/local/lib/python3.7/dist-packages/keras/optimizer_v2/optimizer_v2.py:356: UserWarning: The `lr` argument is deprecated, use `learning_rate` instead.\n",
            "  \"The `lr` argument is deprecated, use `learning_rate` instead.\")\n"
          ]
        },
        {
          "output_type": "stream",
          "name": "stdout",
          "text": [
            "Epoch 1/200\n",
            "35/35 [==============================] - 31s 788ms/step - loss: 1.0174 - val_loss: 1.1014\n",
            "Epoch 2/200\n",
            "35/35 [==============================] - 26s 756ms/step - loss: 0.9200 - val_loss: 1.0394\n",
            "Epoch 3/200\n",
            "35/35 [==============================] - 26s 749ms/step - loss: 0.8454 - val_loss: 0.9775\n",
            "Epoch 4/200\n",
            "35/35 [==============================] - 26s 732ms/step - loss: 0.7981 - val_loss: 0.9422\n",
            "Epoch 5/200\n",
            "35/35 [==============================] - 24s 691ms/step - loss: 0.7650 - val_loss: 0.9375\n",
            "Epoch 6/200\n",
            "35/35 [==============================] - 24s 692ms/step - loss: 0.7259 - val_loss: 0.9080\n",
            "Epoch 7/200\n",
            "35/35 [==============================] - 25s 720ms/step - loss: 0.7060 - val_loss: 0.8697\n",
            "Epoch 8/200\n",
            "35/35 [==============================] - 24s 679ms/step - loss: 0.6860 - val_loss: 0.8560\n",
            "Epoch 9/200\n",
            "35/35 [==============================] - 25s 717ms/step - loss: 0.6811 - val_loss: 0.8194\n",
            "Epoch 10/200\n",
            "35/35 [==============================] - 25s 703ms/step - loss: 0.6423 - val_loss: 0.7811\n",
            "Epoch 11/200\n",
            "35/35 [==============================] - 24s 683ms/step - loss: 0.6117 - val_loss: 0.7739\n",
            "Epoch 12/200\n",
            "35/35 [==============================] - 24s 676ms/step - loss: 0.5895 - val_loss: 0.7712\n",
            "Epoch 13/200\n",
            "35/35 [==============================] - 24s 676ms/step - loss: 0.5537 - val_loss: 0.7306\n",
            "Epoch 14/200\n",
            "35/35 [==============================] - 26s 733ms/step - loss: 0.5392 - val_loss: 0.6645\n",
            "Epoch 15/200\n",
            "35/35 [==============================] - 26s 732ms/step - loss: 0.5057 - val_loss: 0.6290\n",
            "Epoch 16/200\n",
            "35/35 [==============================] - 25s 729ms/step - loss: 0.4875 - val_loss: 0.6246\n",
            "Epoch 17/200\n",
            "35/35 [==============================] - 25s 724ms/step - loss: 0.4824 - val_loss: 0.6069\n",
            "Epoch 18/200\n",
            "35/35 [==============================] - 26s 744ms/step - loss: 0.4652 - val_loss: 0.5996\n",
            "Epoch 19/200\n",
            "35/35 [==============================] - 26s 744ms/step - loss: 0.4564 - val_loss: 0.5924\n",
            "Epoch 20/200\n",
            "35/35 [==============================] - 25s 721ms/step - loss: 0.4485 - val_loss: 0.5824\n",
            "Epoch 21/200\n",
            "35/35 [==============================] - 24s 699ms/step - loss: 0.4410 - val_loss: 0.5843\n",
            "Epoch 22/200\n",
            "35/35 [==============================] - 26s 733ms/step - loss: 0.4350 - val_loss: 0.5774\n",
            "Epoch 23/200\n",
            "35/35 [==============================] - 26s 733ms/step - loss: 0.4299 - val_loss: 0.5767\n",
            "Epoch 24/200\n",
            "35/35 [==============================] - 25s 713ms/step - loss: 0.4244 - val_loss: 0.5665\n",
            "Epoch 25/200\n",
            "35/35 [==============================] - 24s 694ms/step - loss: 0.4191 - val_loss: 0.5610\n",
            "Epoch 26/200\n",
            "35/35 [==============================] - 25s 708ms/step - loss: 0.4121 - val_loss: 0.5590\n",
            "Epoch 27/200\n",
            "35/35 [==============================] - 24s 686ms/step - loss: 0.4076 - val_loss: 0.5563\n",
            "Epoch 28/200\n",
            "35/35 [==============================] - 25s 703ms/step - loss: 0.4028 - val_loss: 0.5526\n",
            "Epoch 29/200\n",
            "35/35 [==============================] - 24s 678ms/step - loss: 0.3972 - val_loss: 0.5488\n",
            "Epoch 30/200\n",
            "35/35 [==============================] - 23s 668ms/step - loss: 0.3935 - val_loss: 0.5479\n",
            "Epoch 31/200\n",
            "35/35 [==============================] - 23s 665ms/step - loss: 0.3897 - val_loss: 0.5434\n",
            "Epoch 32/200\n",
            "35/35 [==============================] - 24s 697ms/step - loss: 0.3865 - val_loss: 0.5460\n",
            "Epoch 33/200\n",
            "35/35 [==============================] - 24s 701ms/step - loss: 0.3831 - val_loss: 0.5479\n",
            "Epoch 34/200\n",
            "35/35 [==============================] - 23s 664ms/step - loss: 0.3799 - val_loss: 0.5381\n",
            "Epoch 35/200\n",
            "35/35 [==============================] - 23s 664ms/step - loss: 0.3745 - val_loss: 0.5339\n",
            "Epoch 36/200\n",
            "35/35 [==============================] - 24s 690ms/step - loss: 0.3712 - val_loss: 0.5407\n",
            "Epoch 37/200\n",
            "35/35 [==============================] - 23s 669ms/step - loss: 0.3699 - val_loss: 0.5375\n",
            "Epoch 38/200\n",
            "35/35 [==============================] - 23s 664ms/step - loss: 0.3707 - val_loss: 0.5407\n",
            "Epoch 39/200\n",
            "35/35 [==============================] - 23s 657ms/step - loss: 0.3650 - val_loss: 0.5372\n",
            "Epoch 40/200\n",
            "35/35 [==============================] - 23s 655ms/step - loss: 0.3600 - val_loss: 0.5328\n",
            "Epoch 41/200\n",
            "35/35 [==============================] - 23s 666ms/step - loss: 0.3570 - val_loss: 0.5335\n",
            "Epoch 42/200\n",
            "35/35 [==============================] - 23s 659ms/step - loss: 0.3545 - val_loss: 0.5329\n",
            "Epoch 43/200\n",
            "35/35 [==============================] - 23s 656ms/step - loss: 0.3521 - val_loss: 0.5289\n",
            "Epoch 44/200\n",
            "35/35 [==============================] - 23s 653ms/step - loss: 0.3486 - val_loss: 0.5298\n",
            "Epoch 45/200\n",
            "35/35 [==============================] - 23s 654ms/step - loss: 0.3459 - val_loss: 0.5269\n",
            "Epoch 46/200\n",
            "35/35 [==============================] - 23s 656ms/step - loss: 0.3428 - val_loss: 0.5306\n",
            "Epoch 47/200\n",
            "35/35 [==============================] - 23s 654ms/step - loss: 0.3405 - val_loss: 0.5259\n",
            "Epoch 48/200\n",
            "35/35 [==============================] - 23s 655ms/step - loss: 0.3389 - val_loss: 0.5262\n",
            "Epoch 49/200\n",
            "35/35 [==============================] - 23s 652ms/step - loss: 0.3427 - val_loss: 0.5253\n",
            "Epoch 50/200\n",
            "35/35 [==============================] - 23s 651ms/step - loss: 0.3381 - val_loss: 0.5240\n",
            "Epoch 51/200\n",
            "35/35 [==============================] - 23s 652ms/step - loss: 0.3342 - val_loss: 0.5245\n",
            "Epoch 52/200\n",
            "35/35 [==============================] - 23s 653ms/step - loss: 0.3289 - val_loss: 0.5256\n",
            "Epoch 53/200\n",
            "35/35 [==============================] - 23s 667ms/step - loss: 0.3256 - val_loss: 0.5229\n",
            "Epoch 54/200\n",
            "35/35 [==============================] - 23s 661ms/step - loss: 0.3248 - val_loss: 0.5239\n",
            "Epoch 55/200\n",
            "35/35 [==============================] - 23s 662ms/step - loss: 0.3230 - val_loss: 0.5220\n",
            "Epoch 56/200\n",
            "35/35 [==============================] - 23s 659ms/step - loss: 0.3225 - val_loss: 0.5233\n",
            "Epoch 57/200\n",
            "35/35 [==============================] - 23s 658ms/step - loss: 0.3238 - val_loss: 0.5259\n",
            "Epoch 58/200\n",
            "35/35 [==============================] - 23s 659ms/step - loss: 0.3212 - val_loss: 0.5208\n",
            "Epoch 59/200\n",
            "35/35 [==============================] - 23s 659ms/step - loss: 0.3177 - val_loss: 0.5204\n",
            "Epoch 60/200\n",
            "35/35 [==============================] - 23s 656ms/step - loss: 0.3141 - val_loss: 0.5235\n",
            "Epoch 61/200\n",
            "35/35 [==============================] - 23s 657ms/step - loss: 0.3113 - val_loss: 0.5237\n",
            "Epoch 62/200\n",
            "35/35 [==============================] - 23s 656ms/step - loss: 0.3089 - val_loss: 0.5200\n",
            "Epoch 63/200\n",
            "35/35 [==============================] - 23s 660ms/step - loss: 0.3065 - val_loss: 0.5236\n",
            "Epoch 64/200\n",
            "35/35 [==============================] - 23s 655ms/step - loss: 0.3055 - val_loss: 0.5216\n",
            "Epoch 65/200\n",
            "35/35 [==============================] - 23s 654ms/step - loss: 0.3032 - val_loss: 0.5223\n",
            "Epoch 66/200\n",
            "35/35 [==============================] - 23s 654ms/step - loss: 0.3037 - val_loss: 0.5233\n",
            "Epoch 67/200\n",
            "35/35 [==============================] - 23s 654ms/step - loss: 0.3023 - val_loss: 0.5204\n",
            "Epoch 68/200\n",
            "35/35 [==============================] - 23s 654ms/step - loss: 0.3012 - val_loss: 0.5242\n",
            "Epoch 69/200\n",
            "35/35 [==============================] - 23s 661ms/step - loss: 0.3128 - val_loss: 0.5293\n",
            "Epoch 70/200\n",
            "35/35 [==============================] - 23s 655ms/step - loss: 0.3109 - val_loss: 0.5217\n",
            "Epoch 71/200\n",
            "35/35 [==============================] - 23s 656ms/step - loss: 0.3015 - val_loss: 0.5214\n",
            "Epoch 72/200\n",
            "35/35 [==============================] - 23s 664ms/step - loss: 0.2948 - val_loss: 0.5211\n",
            "Epoch 73/200\n",
            "35/35 [==============================] - 23s 662ms/step - loss: 0.2919 - val_loss: 0.5216\n",
            "Epoch 74/200\n",
            "35/35 [==============================] - 23s 665ms/step - loss: 0.2918 - val_loss: 0.5239\n",
            "Epoch 75/200\n",
            "35/35 [==============================] - 23s 663ms/step - loss: 0.2895 - val_loss: 0.5219\n",
            "Epoch 76/200\n",
            "35/35 [==============================] - 23s 662ms/step - loss: 0.2892 - val_loss: 0.5232\n",
            "Epoch 77/200\n",
            "35/35 [==============================] - 23s 661ms/step - loss: 0.2868 - val_loss: 0.5284\n",
            "Epoch 78/200\n",
            "35/35 [==============================] - 23s 662ms/step - loss: 0.2840 - val_loss: 0.5247\n",
            "Epoch 79/200\n",
            "35/35 [==============================] - 23s 661ms/step - loss: 0.2848 - val_loss: 0.5227\n",
            "Epoch 80/200\n",
            "35/35 [==============================] - 23s 658ms/step - loss: 0.2829 - val_loss: 0.5243\n",
            "Epoch 81/200\n",
            "35/35 [==============================] - 23s 656ms/step - loss: 0.2809 - val_loss: 0.5248\n",
            "Epoch 82/200\n",
            "35/35 [==============================] - 23s 660ms/step - loss: 0.2794 - val_loss: 0.5230\n",
            "Epoch 83/200\n",
            "35/35 [==============================] - 23s 664ms/step - loss: 0.2790 - val_loss: 0.5267\n",
            "Epoch 84/200\n",
            "35/35 [==============================] - 23s 660ms/step - loss: 0.2778 - val_loss: 0.5244\n",
            "Epoch 85/200\n",
            "35/35 [==============================] - 23s 660ms/step - loss: 0.2776 - val_loss: 0.5245\n",
            "Epoch 86/200\n",
            "35/35 [==============================] - 23s 655ms/step - loss: 0.2789 - val_loss: 0.5270\n",
            "Epoch 87/200\n",
            "35/35 [==============================] - 23s 657ms/step - loss: 0.2804 - val_loss: 0.5277\n",
            "Epoch 88/200\n",
            "35/35 [==============================] - 23s 658ms/step - loss: 0.2766 - val_loss: 0.5278\n",
            "Epoch 89/200\n",
            "35/35 [==============================] - 23s 658ms/step - loss: 0.2753 - val_loss: 0.5274\n",
            "Epoch 90/200\n",
            "35/35 [==============================] - 23s 657ms/step - loss: 0.2730 - val_loss: 0.5259\n",
            "Epoch 91/200\n",
            "35/35 [==============================] - 23s 658ms/step - loss: 0.2707 - val_loss: 0.5258\n",
            "Epoch 92/200\n",
            "35/35 [==============================] - 23s 656ms/step - loss: 0.2723 - val_loss: 0.5277\n",
            "Epoch 93/200\n",
            "35/35 [==============================] - 23s 657ms/step - loss: 0.2738 - val_loss: 0.5258\n",
            "Epoch 94/200\n",
            "35/35 [==============================] - 23s 657ms/step - loss: 0.2689 - val_loss: 0.5267\n",
            "Epoch 95/200\n",
            "35/35 [==============================] - 23s 659ms/step - loss: 0.2667 - val_loss: 0.5252\n",
            "Epoch 96/200\n",
            "35/35 [==============================] - 23s 661ms/step - loss: 0.2651 - val_loss: 0.5271\n",
            "Epoch 97/200\n",
            "35/35 [==============================] - 23s 665ms/step - loss: 0.2645 - val_loss: 0.5290\n",
            "Epoch 98/200\n",
            "35/35 [==============================] - 23s 659ms/step - loss: 0.2632 - val_loss: 0.5287\n",
            "Epoch 99/200\n",
            "35/35 [==============================] - 23s 660ms/step - loss: 0.2620 - val_loss: 0.5297\n",
            "Epoch 100/200\n",
            "35/35 [==============================] - 24s 687ms/step - loss: 0.2619 - val_loss: 0.5291\n",
            "Epoch 101/200\n",
            "35/35 [==============================] - 25s 707ms/step - loss: 0.2620 - val_loss: 0.5328\n",
            "Epoch 102/200\n",
            "35/35 [==============================] - 25s 704ms/step - loss: 0.2611 - val_loss: 0.5298\n",
            "Epoch 103/200\n",
            "35/35 [==============================] - 23s 665ms/step - loss: 0.2608 - val_loss: 0.5323\n",
            "Epoch 104/200\n",
            "35/35 [==============================] - 23s 659ms/step - loss: 0.2606 - val_loss: 0.5317\n",
            "Epoch 105/200\n",
            "35/35 [==============================] - 23s 665ms/step - loss: 0.2635 - val_loss: 0.5310\n",
            "Epoch 106/200\n",
            "35/35 [==============================] - 23s 663ms/step - loss: 0.2591 - val_loss: 0.5308\n",
            "Epoch 107/200\n",
            "35/35 [==============================] - 23s 661ms/step - loss: 0.2576 - val_loss: 0.5326\n",
            "Epoch 108/200\n",
            "35/35 [==============================] - 23s 665ms/step - loss: 0.2555 - val_loss: 0.5327\n",
            "Epoch 109/200\n",
            "35/35 [==============================] - 23s 660ms/step - loss: 0.2534 - val_loss: 0.5354\n",
            "Epoch 110/200\n",
            "35/35 [==============================] - 23s 664ms/step - loss: 0.2519 - val_loss: 0.5314\n",
            "Epoch 111/200\n",
            "35/35 [==============================] - 23s 666ms/step - loss: 0.2513 - val_loss: 0.5326\n",
            "Epoch 112/200\n",
            "35/35 [==============================] - 23s 657ms/step - loss: 0.2503 - val_loss: 0.5321\n",
            "Epoch 113/200\n",
            "35/35 [==============================] - 23s 657ms/step - loss: 0.2523 - val_loss: 0.5326\n",
            "Epoch 114/200\n",
            "35/35 [==============================] - 23s 661ms/step - loss: 0.2507 - val_loss: 0.5341\n",
            "Epoch 115/200\n",
            "35/35 [==============================] - 23s 661ms/step - loss: 0.2484 - val_loss: 0.5338\n",
            "Epoch 116/200\n",
            "35/35 [==============================] - 23s 661ms/step - loss: 0.2471 - val_loss: 0.5328\n",
            "Epoch 117/200\n",
            "35/35 [==============================] - 23s 656ms/step - loss: 0.2520 - val_loss: 0.5375\n",
            "Epoch 118/200\n",
            "35/35 [==============================] - 23s 661ms/step - loss: 0.2490 - val_loss: 0.5369\n",
            "Epoch 119/200\n",
            "35/35 [==============================] - 23s 670ms/step - loss: 0.2490 - val_loss: 0.5341\n",
            "Epoch 120/200\n",
            "35/35 [==============================] - 23s 671ms/step - loss: 0.2451 - val_loss: 0.5348\n",
            "Epoch 121/200\n",
            "35/35 [==============================] - 24s 674ms/step - loss: 0.2429 - val_loss: 0.5330\n",
            "Epoch 122/200\n",
            "35/35 [==============================] - 23s 673ms/step - loss: 0.2421 - val_loss: 0.5377\n",
            "Epoch 123/200\n",
            "35/35 [==============================] - 23s 671ms/step - loss: 0.2418 - val_loss: 0.5359\n",
            "Epoch 124/200\n",
            "35/35 [==============================] - 22s 639ms/step - loss: 0.2432 - val_loss: 0.5384\n",
            "Epoch 125/200\n",
            "35/35 [==============================] - 23s 652ms/step - loss: 0.2412 - val_loss: 0.5388\n",
            "Epoch 126/200\n",
            "35/35 [==============================] - 23s 662ms/step - loss: 0.2397 - val_loss: 0.5381\n",
            "Epoch 127/200\n",
            "35/35 [==============================] - 22s 635ms/step - loss: 0.2389 - val_loss: 0.5383\n",
            "Epoch 128/200\n",
            "35/35 [==============================] - 22s 636ms/step - loss: 0.2405 - val_loss: 0.5378\n",
            "Epoch 129/200\n",
            "35/35 [==============================] - 22s 636ms/step - loss: 0.2377 - val_loss: 0.5396\n",
            "Epoch 130/200\n",
            "35/35 [==============================] - 22s 637ms/step - loss: 0.2372 - val_loss: 0.5378\n",
            "Epoch 131/200\n",
            "35/35 [==============================] - 22s 640ms/step - loss: 0.2358 - val_loss: 0.5411\n",
            "Epoch 132/200\n",
            "35/35 [==============================] - 23s 654ms/step - loss: 0.2346 - val_loss: 0.5383\n",
            "Epoch 133/200\n",
            "35/35 [==============================] - 22s 635ms/step - loss: 0.2334 - val_loss: 0.5372\n",
            "Epoch 134/200\n",
            "35/35 [==============================] - 22s 635ms/step - loss: 0.2339 - val_loss: 0.5396\n",
            "Epoch 135/200\n",
            "35/35 [==============================] - 22s 634ms/step - loss: 0.2321 - val_loss: 0.5395\n",
            "Epoch 136/200\n",
            "35/35 [==============================] - 23s 666ms/step - loss: 0.2320 - val_loss: 0.5417\n",
            "Epoch 137/200\n",
            "35/35 [==============================] - 24s 686ms/step - loss: 0.2342 - val_loss: 0.5391\n",
            "Epoch 138/200\n",
            "35/35 [==============================] - 24s 684ms/step - loss: 0.2333 - val_loss: 0.5408\n",
            "Epoch 139/200\n",
            "35/35 [==============================] - 24s 684ms/step - loss: 0.2318 - val_loss: 0.5420\n",
            "Epoch 140/200\n",
            "35/35 [==============================] - 24s 687ms/step - loss: 0.2293 - val_loss: 0.5421\n",
            "Epoch 141/200\n",
            "35/35 [==============================] - 24s 682ms/step - loss: 0.2289 - val_loss: 0.5434\n",
            "Epoch 142/200\n",
            "35/35 [==============================] - 24s 688ms/step - loss: 0.2300 - val_loss: 0.5428\n",
            "Epoch 143/200\n",
            "35/35 [==============================] - 24s 677ms/step - loss: 0.2325 - val_loss: 0.5441\n",
            "Epoch 144/200\n",
            "35/35 [==============================] - 24s 680ms/step - loss: 0.2323 - val_loss: 0.5454\n",
            "Epoch 145/200\n",
            "35/35 [==============================] - 24s 676ms/step - loss: 0.2314 - val_loss: 0.5433\n",
            "Epoch 146/200\n",
            "35/35 [==============================] - 23s 671ms/step - loss: 0.2330 - val_loss: 0.5458\n",
            "Epoch 147/200\n",
            "35/35 [==============================] - 24s 678ms/step - loss: 0.2327 - val_loss: 0.5440\n",
            "Epoch 148/200\n",
            "35/35 [==============================] - 24s 675ms/step - loss: 0.2323 - val_loss: 0.5470\n",
            "Epoch 149/200\n",
            "35/35 [==============================] - 24s 676ms/step - loss: 0.2306 - val_loss: 0.5447\n",
            "Epoch 150/200\n",
            "35/35 [==============================] - 23s 673ms/step - loss: 0.2292 - val_loss: 0.5469\n",
            "Epoch 151/200\n",
            "35/35 [==============================] - 23s 674ms/step - loss: 0.2275 - val_loss: 0.5457\n",
            "Epoch 152/200\n",
            "35/35 [==============================] - 24s 683ms/step - loss: 0.2258 - val_loss: 0.5471\n",
            "Epoch 153/200\n",
            "35/35 [==============================] - 24s 676ms/step - loss: 0.2249 - val_loss: 0.5451\n",
            "Epoch 154/200\n",
            "35/35 [==============================] - 24s 678ms/step - loss: 0.2239 - val_loss: 0.5461\n",
            "Epoch 155/200\n",
            "35/35 [==============================] - 23s 673ms/step - loss: 0.2229 - val_loss: 0.5474\n",
            "Epoch 156/200\n",
            "35/35 [==============================] - 24s 677ms/step - loss: 0.2223 - val_loss: 0.5468\n",
            "Epoch 157/200\n",
            "35/35 [==============================] - 24s 677ms/step - loss: 0.2222 - val_loss: 0.5457\n",
            "Epoch 158/200\n",
            "35/35 [==============================] - 24s 679ms/step - loss: 0.2259 - val_loss: 0.5465\n",
            "Epoch 159/200\n",
            "35/35 [==============================] - 24s 678ms/step - loss: 0.2262 - val_loss: 0.5492\n",
            "Epoch 160/200\n",
            "35/35 [==============================] - 23s 673ms/step - loss: 0.2237 - val_loss: 0.5473\n",
            "Epoch 161/200\n",
            "35/35 [==============================] - 24s 685ms/step - loss: 0.2208 - val_loss: 0.5501\n",
            "Epoch 162/200\n",
            "35/35 [==============================] - 24s 680ms/step - loss: 0.2182 - val_loss: 0.5492\n",
            "Epoch 163/200\n",
            "35/35 [==============================] - 24s 678ms/step - loss: 0.2174 - val_loss: 0.5509\n",
            "Epoch 164/200\n",
            "35/35 [==============================] - 24s 676ms/step - loss: 0.2177 - val_loss: 0.5514\n",
            "Epoch 165/200\n",
            "35/35 [==============================] - 24s 681ms/step - loss: 0.2218 - val_loss: 0.5505\n",
            "Epoch 166/200\n",
            "35/35 [==============================] - 24s 681ms/step - loss: 0.2201 - val_loss: 0.5490\n",
            "Epoch 167/200\n",
            "35/35 [==============================] - 24s 679ms/step - loss: 0.2191 - val_loss: 0.5482\n",
            "Epoch 168/200\n",
            "35/35 [==============================] - 24s 680ms/step - loss: 0.2184 - val_loss: 0.5498\n",
            "Epoch 169/200\n",
            "35/35 [==============================] - 24s 687ms/step - loss: 0.2168 - val_loss: 0.5507\n",
            "Epoch 170/200\n",
            "35/35 [==============================] - 24s 684ms/step - loss: 0.2159 - val_loss: 0.5502\n",
            "Epoch 171/200\n",
            "35/35 [==============================] - 24s 679ms/step - loss: 0.2149 - val_loss: 0.5507\n",
            "Epoch 172/200\n",
            "35/35 [==============================] - 24s 686ms/step - loss: 0.2146 - val_loss: 0.5517\n",
            "Epoch 173/200\n",
            "35/35 [==============================] - 24s 685ms/step - loss: 0.2152 - val_loss: 0.5524\n",
            "Epoch 174/200\n",
            "35/35 [==============================] - 24s 677ms/step - loss: 0.2152 - val_loss: 0.5528\n",
            "Epoch 175/200\n",
            "35/35 [==============================] - 24s 682ms/step - loss: 0.2156 - val_loss: 0.5527\n",
            "Epoch 176/200\n",
            "35/35 [==============================] - 24s 685ms/step - loss: 0.2150 - val_loss: 0.5510\n",
            "Epoch 177/200\n",
            "35/35 [==============================] - 24s 695ms/step - loss: 0.2219 - val_loss: 0.5536\n",
            "Epoch 178/200\n",
            "35/35 [==============================] - 24s 692ms/step - loss: 0.2176 - val_loss: 0.5525\n",
            "Epoch 179/200\n",
            "35/35 [==============================] - 24s 688ms/step - loss: 0.2165 - val_loss: 0.5525\n",
            "Epoch 180/200\n",
            "35/35 [==============================] - 24s 684ms/step - loss: 0.2146 - val_loss: 0.5533\n",
            "Epoch 181/200\n",
            "35/35 [==============================] - 24s 690ms/step - loss: 0.2120 - val_loss: 0.5531\n",
            "Epoch 182/200\n",
            "35/35 [==============================] - 24s 689ms/step - loss: 0.2104 - val_loss: 0.5525\n",
            "Epoch 183/200\n",
            "35/35 [==============================] - 24s 690ms/step - loss: 0.2093 - val_loss: 0.5535\n",
            "Epoch 184/200\n",
            "35/35 [==============================] - 24s 696ms/step - loss: 0.2092 - val_loss: 0.5555\n",
            "Epoch 185/200\n",
            "35/35 [==============================] - 24s 686ms/step - loss: 0.2093 - val_loss: 0.5529\n",
            "Epoch 186/200\n",
            "35/35 [==============================] - 24s 690ms/step - loss: 0.2083 - val_loss: 0.5552\n",
            "Epoch 187/200\n",
            "35/35 [==============================] - 24s 695ms/step - loss: 0.2089 - val_loss: 0.5551\n",
            "Epoch 188/200\n",
            "35/35 [==============================] - 24s 696ms/step - loss: 0.2084 - val_loss: 0.5536\n",
            "Epoch 189/200\n",
            "35/35 [==============================] - 24s 691ms/step - loss: 0.2076 - val_loss: 0.5556\n",
            "Epoch 190/200\n",
            "35/35 [==============================] - 24s 692ms/step - loss: 0.2071 - val_loss: 0.5568\n",
            "Epoch 191/200\n",
            "35/35 [==============================] - 24s 694ms/step - loss: 0.2067 - val_loss: 0.5566\n",
            "Epoch 192/200\n",
            "35/35 [==============================] - 24s 699ms/step - loss: 0.2081 - val_loss: 0.5576\n",
            "Epoch 193/200\n",
            "35/35 [==============================] - 24s 692ms/step - loss: 0.2066 - val_loss: 0.5569\n",
            "Epoch 194/200\n",
            "35/35 [==============================] - 24s 702ms/step - loss: 0.2058 - val_loss: 0.5581\n",
            "Epoch 195/200\n",
            "35/35 [==============================] - 24s 700ms/step - loss: 0.2055 - val_loss: 0.5572\n",
            "Epoch 196/200\n",
            "35/35 [==============================] - 24s 696ms/step - loss: 0.2065 - val_loss: 0.5577\n",
            "Epoch 197/200\n",
            "35/35 [==============================] - 24s 698ms/step - loss: 0.2064 - val_loss: 0.5582\n",
            "Epoch 198/200\n",
            "35/35 [==============================] - 24s 688ms/step - loss: 0.2051 - val_loss: 0.5578\n",
            "Epoch 199/200\n",
            "35/35 [==============================] - 24s 697ms/step - loss: 0.2053 - val_loss: 0.5587\n",
            "Epoch 200/200\n",
            "35/35 [==============================] - 24s 688ms/step - loss: 0.2054 - val_loss: 0.5574\n"
          ]
        },
        {
          "output_type": "execute_result",
          "data": {
            "text/plain": [
              "<keras.callbacks.History at 0x7f49ebcf0110>"
            ]
          },
          "metadata": {},
          "execution_count": 17
        }
      ]
    },
    {
      "cell_type": "code",
      "metadata": {
        "id": "L4XhzyGOD9U7"
      },
      "source": [
        "#Define sampling models\n",
        "encoder_model = Model(encoder_inputs, encoder_states)\n",
        "decoder_state_input_h = Input(shape=(latent_dim,))\n",
        "decoder_state_input_c = Input(shape=(latent_dim,))\n",
        "decoder_states_inputs = [decoder_state_input_h, decoder_state_input_c]\n",
        "decoder_outputs, state_h, state_c = decoder_lstm(decoder_inputs, initial_state=decoder_states_inputs)\n",
        "decoder_states = [state_h, state_c]\n",
        "decoder_outputs = decoder_dense(decoder_outputs)\n",
        "decoder_model = Model([decoder_inputs] + decoder_states_inputs, [decoder_outputs] + decoder_states)"
      ],
      "execution_count": null,
      "outputs": []
    },
    {
      "cell_type": "code",
      "metadata": {
        "id": "coRSVGLVGe_2"
      },
      "source": [
        "reverse_input_char_index = dict((i, char) for char, i in input_token_id.items())\n",
        "reverse_target_char_index = dict((i, char) for char, i in target_token_id.items())\n",
        "\n",
        "#Define Decode Sequence\n",
        "def decode_sequence(input_seq):\n",
        "    #Encode the input as state vectors.\n",
        "    states_value = encoder_model.predict(input_seq)\n",
        "\n",
        "    #Generate empty target sequence of length 1.\n",
        "    target_seq = np.zeros((1, 1, num_decoder_tokens))\n",
        "    #Get the first character of target sequence with the start character.\n",
        "    target_seq[0, 0, target_token_id['\\t']] = 1.\n",
        "\n",
        "    #Sampling loop for a batch of sequences\n",
        "    #(to simplify, here we assume a batch of size 1).\n",
        "    stop_condition = False\n",
        "    decoded_sentence = ''\n",
        "    while not stop_condition:\n",
        "        output_tokens, h, c = decoder_model.predict([target_seq] + states_value)\n",
        "\n",
        "        #Sample a token\n",
        "        sampled_token_index = np.argmax(output_tokens[0, -1, :])\n",
        "        sampled_char = reverse_target_char_index[sampled_token_index]\n",
        "        decoded_sentence += sampled_char\n",
        "\n",
        "        #Exit condition: either hit max length\n",
        "        #or find stop character.\n",
        "        if (sampled_char == '\\n' or\n",
        "           len(decoded_sentence) > max_decoder_seq_length):\n",
        "            stop_condition = True\n",
        "\n",
        "        #Update the target sequence (of length 1).\n",
        "        target_seq = np.zeros((1, 1, num_decoder_tokens))\n",
        "        target_seq[0, 0, sampled_token_index] = 1.\n",
        "\n",
        "        #Update states\n",
        "        states_value = [h, c]\n",
        "\n",
        "    return decoded_sentence\n",
        ""
      ],
      "execution_count": null,
      "outputs": []
    },
    {
      "cell_type": "code",
      "metadata": {
        "colab": {
          "base_uri": "https://localhost:8080/"
        },
        "id": "Ye0IWUcXGjpF",
        "outputId": "685955c2-e627-41c5-bb75-79bfc39fd999"
      },
      "source": [
        "for seq_index in range(633,650,3):\n",
        "    input_seq = encoder_in_data[seq_index: seq_index + 1]\n",
        "    decoded_sentence = decode_sequence(input_seq)\n",
        "    print('-')\n",
        "    print('Input sentence:', input_texts[seq_index])\n",
        "    print('Decoded sentence:', decoded_sentence)"
      ],
      "execution_count": null,
      "outputs": [
        {
          "output_type": "stream",
          "name": "stdout",
          "text": [
            "-\n",
            "Input sentence: I'm blind.\n",
            "Decoded sentence: Je suis en train de mourir.\n",
            "\n",
            "-\n",
            "Input sentence: I'm clean.\n",
            "Decoded sentence: Je suis pris de meis.\n",
            "\n",
            "-\n",
            "Input sentence: I'm cured.\n",
            "Decoded sentence: Je suis contrarié.\n",
            "\n",
            "-\n",
            "Input sentence: I'm drunk.\n",
            "Decoded sentence: Je suis continte.\n",
            "\n",
            "-\n",
            "Input sentence: I'm early.\n",
            "Decoded sentence: Je suis prêt.\n",
            "\n",
            "-\n",
            "Input sentence: I'm fussy.\n",
            "Decoded sentence: Je suis dur.\n",
            "\n"
          ]
        }
      ]
    },
    {
      "cell_type": "code",
      "metadata": {
        "colab": {
          "background_save": true
        },
        "id": "dp4klfDyjKeu"
      },
      "source": [],
      "execution_count": null,
      "outputs": []
    }
  ]
}